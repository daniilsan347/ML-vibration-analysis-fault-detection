{
 "cells": [
  {
   "cell_type": "markdown",
   "metadata": {},
   "source": [
    "This notebook is used to process the data in format usable by training models."
   ]
  },
  {
   "cell_type": "code",
   "execution_count": 1,
   "metadata": {},
   "outputs": [],
   "source": [
    "import numpy as np\n",
    "from scipy import io\n",
    "from scipy.fftpack import fft, fftfreq\n"
   ]
  },
  {
   "cell_type": "code",
   "execution_count": 2,
   "metadata": {},
   "outputs": [],
   "source": [
    "def load_matlab_file(file_path):\n",
    "    mat = io.loadmat(file_path)\n",
    "    data = mat['v']\n",
    "    return np.asarray(data, dtype=np.float32)\n",
    "\n",
    "data = [load_matlab_file(f'OriginalData/T{i:04d}.mat') for i in range(1, 1159)]\n",
    "data = np.squeeze(np.stack(data), axis=2)\n",
    "\n",
    "target = np.asarray(io.loadmat('OriginalData/key.mat')['key'], dtype=np.int8).flatten()"
   ]
  },
  {
   "cell_type": "markdown",
   "metadata": {},
   "source": [
    "Our signal has a significant DC component. We remove it by `detrend` method from SciPy."
   ]
  },
  {
   "cell_type": "code",
   "execution_count": 3,
   "metadata": {},
   "outputs": [],
   "source": [
    "from scipy.signal import detrend\n",
    "\n",
    "data = detrend(data, axis=1)"
   ]
  },
  {
   "cell_type": "markdown",
   "metadata": {},
   "source": [
    "To minimise spectral leakage we use Hann windowing, as it provides good enough leackage protecting while giving better resolution than Hamming."
   ]
  },
  {
   "cell_type": "code",
   "execution_count": 4,
   "metadata": {},
   "outputs": [],
   "source": [
    "from scipy.signal import get_window\n",
    "\n",
    "window = get_window('hann', data.shape[1])\n",
    "data = data * window"
   ]
  },
  {
   "cell_type": "markdown",
   "metadata": {},
   "source": [
    "We'll create a new dataframe to store FFT data for each vibration signal."
   ]
  },
  {
   "cell_type": "code",
   "execution_count": 5,
   "metadata": {},
   "outputs": [],
   "source": [
    "fft_freq = fftfreq(data.shape[1])\n",
    "\n",
    "fft_data = np.abs(fft(data, axis=1))\n",
    "fft_data = fft_data[:, fft_freq >= 0]\n",
    "fft_freq = fft_freq[fft_freq >= 0]"
   ]
  },
  {
   "cell_type": "code",
   "execution_count": 7,
   "metadata": {},
   "outputs": [
    {
     "name": "stdout",
     "output_type": "stream",
     "text": [
      "Cross-Validation Scores: [1.         1.         1.         0.99134199 1.        ]\n",
      "Mean Cross-Validation Score: 0.9982683982683984\n"
     ]
    }
   ],
   "source": [
    "from sklearn.pipeline import Pipeline\n",
    "from sklearn.preprocessing import StandardScaler\n",
    "from sklearn.decomposition import PCA\n",
    "from sklearn.ensemble import RandomForestClassifier\n",
    "from sklearn.model_selection import cross_val_score\n",
    "\n",
    "# Define the pipeline\n",
    "pipeline = Pipeline([\n",
    "    ('scaler', StandardScaler()),  # Scaling\n",
    "    ('pca', PCA(n_components=0.95)),  # PCA\n",
    "    ('clf', RandomForestClassifier())  # Random Forest\n",
    "])\n",
    "\n",
    "# Perform cross-validation\n",
    "scores = cross_val_score(pipeline, fft_data, target, cv=5)  # 5-fold cross-validation\n",
    "print(f\"Cross-Validation Scores: {scores}\")\n",
    "print(f\"Mean Cross-Validation Score: {scores.mean()}\")"
   ]
  },
  {
   "cell_type": "code",
   "execution_count": 9,
   "metadata": {},
   "outputs": [
    {
     "name": "stdout",
     "output_type": "stream",
     "text": [
      "              precision    recall  f1-score   support\n",
      "\n",
      "           0       1.00      1.00      1.00       865\n",
      "           1       1.00      1.00      1.00       293\n",
      "\n",
      "    accuracy                           1.00      1158\n",
      "   macro avg       1.00      1.00      1.00      1158\n",
      "weighted avg       1.00      1.00      1.00      1158\n",
      "\n"
     ]
    },
    {
     "data": {
      "image/png": "[encoded data removed]",
      "text/plain": [
       "<Figure size 640x480 with 1 Axes>"
      ]
     },
     "metadata": {},
     "output_type": "display_data"
    }
   ],
   "source": [
    "# Precision, Recall, F1-Score\n",
    "from sklearn.metrics import classification_report\n",
    "\n",
    "pipeline.fit(fft_data, target)\n",
    "predicted = pipeline.predict(fft_data)\n",
    "print(classification_report(target, predicted))\n",
    "\n",
    "# Confusion Matrix\n",
    "from sklearn.metrics import confusion_matrix\n",
    "import seaborn as sns\n",
    "import matplotlib.pyplot as plt\n",
    "\n",
    "conf_matrix = confusion_matrix(target, predicted)\n",
    "sns.heatmap(conf_matrix, annot=True, fmt='d', cmap='Greys', cbar=False, linewidths=0.5, linecolor='black')\n",
    "plt.xlabel('Predicted')\n",
    "plt.ylabel('True')\n",
    "plt.show()\n"
   ]
  },
  {
   "cell_type": "code",
   "execution_count": 12,
   "metadata": {},
   "outputs": [
    {
     "data": {
      "text/plain": [
       "['model.joblib']"
      ]
     },
     "execution_count": 12,
     "metadata": {},
     "output_type": "execute_result"
    }
   ],
   "source": [
    "# Save the model\n",
    "import joblib\n",
    "\n",
    "joblib.dump(pipeline, 'model.joblib')"
   ]
  },
  {
   "cell_type": "code",
   "execution_count": 6,
   "metadata": {},
   "outputs": [],
   "source": [
    "# Load the model\n",
    "import joblib\n",
    "pipeline = joblib.load('model.joblib')"
   ]
  },
  {
   "cell_type": "code",
   "execution_count": 7,
   "metadata": {},
   "outputs": [
    {
     "data": {
      "image/png": "[encoded data removed]",
      "text/plain": [
       "<Figure size 640x480 with 1 Axes>"
      ]
     },
     "metadata": {},
     "output_type": "display_data"
    }
   ],
   "source": [
    "# Confusion Matrix\n",
    "from sklearn.metrics import confusion_matrix\n",
    "import seaborn as sns\n",
    "import matplotlib.pyplot as plt\n",
    "\n",
    "plt.rcParams.update({'font.size': 8})\n",
    "\n",
    "predicted = pipeline.predict(fft_data)\n",
    "\n",
    "conf_matrix = confusion_matrix(target, predicted)\n",
    "sns.heatmap(conf_matrix, annot=True, fmt='d', cmap='Greys', cbar=False, linewidths=0.5, linecolor='black')\n",
    "plt.xlabel('Predicted')\n",
    "plt.ylabel('True')\n",
    "plt.show()\n"
   ]
  }
 ],
 "metadata": {
  "kernelspec": {
   "display_name": "ml",
   "language": "python",
   "name": "python3"
  },
  "language_info": {
   "codemirror_mode": {
    "name": "ipython",
    "version": 3
   },
   "file_extension": ".py",
   "mimetype": "text/x-python",
   "name": "python",
   "nbconvert_exporter": "python",
   "pygments_lexer": "ipython3",
   "version": "3.11.10"
  }
 },
 "nbformat": 4,
 "nbformat_minor": 2
}
